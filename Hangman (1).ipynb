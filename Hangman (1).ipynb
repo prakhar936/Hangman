{
 "cells": [
  {
   "cell_type": "code",
   "execution_count": 2,
   "id": "f4f38bb3",
   "metadata": {},
   "outputs": [],
   "source": [
    "#importing random module for random selection of words from the list\n",
    "import random"
   ]
  },
  {
   "cell_type": "code",
   "execution_count": 4,
   "id": "de395db7",
   "metadata": {},
   "outputs": [
    {
     "name": "stdout",
     "output_type": "stream",
     "text": [
      "Enter your name Prakhar\n",
      "Hello Prakhar , let's play Hangman\n"
     ]
    }
   ],
   "source": [
    "#making game more interactive\n",
    "name = input(\"Enter your name \")\n",
    "print(\"Hello \"  + name,  \", let's play Hangman\")\n",
    "#list of random words\n",
    "words = (\"banana\" , \"apple\" , \"grape\" , \"kiwi\" , \"guava\" , \"papaya\", \"orange\" ,\"pea\")"
   ]
  },
  {
   "cell_type": "code",
   "execution_count": 5,
   "id": "89756c9a",
   "metadata": {},
   "outputs": [
    {
     "name": "stdout",
     "output_type": "stream",
     "text": [
      "apple\n"
     ]
    }
   ],
   "source": [
    "word = random.choice(words)\n",
    "print(word)"
   ]
  },
  {
   "cell_type": "code",
   "execution_count": 6,
   "id": "a91c61a0",
   "metadata": {},
   "outputs": [],
   "source": [
    "#Number of tries before failure\n",
    "n = len(word)\n",
    "if(n%2==0):\n",
    "    lives = int(n/2)\n",
    "else:\n",
    "    lives = int(n/2) + 1"
   ]
  },
  {
   "cell_type": "code",
   "execution_count": 9,
   "id": "e13d4e67",
   "metadata": {},
   "outputs": [
    {
     "name": "stdout",
     "output_type": "stream",
     "text": [
      "['_', '_', '_', '_', '_']\n"
     ]
    }
   ],
   "source": [
    "display = []\n",
    "for i in range(0,n):\n",
    "    display.append(\"_\")\n",
    "print(display)"
   ]
  },
  {
   "cell_type": "code",
   "execution_count": null,
   "id": "eb05cf3c",
   "metadata": {},
   "outputs": [],
   "source": [
    "while(lives>0):\n",
    "    #taking input from user\n",
    "    char = input(\"Enter a letter \")\n",
    "    if char in word:\n",
    "        for p in range(0,n):\n",
    "            #if guess correct then displayiing at correct index\n",
    "            if (word[p]==char):\n",
    "                display[p] = char\n",
    "        print(display)\n",
    "        \n",
    "    else:\n",
    "        #if gurssed wrong then showing how many lives are left\n",
    "        print(\"You guessed wrong\")\n",
    "        lives = lives - 1\n",
    "        print(\"You have \" +str(lives), \"lives left\" )\n",
    "    if lives == 0:\n",
    "        print(\"You Lost!!\")\n",
    "    if '_' not in display:\n",
    "        print(\"You Won!!\")"
   ]
  },
  {
   "cell_type": "code",
   "execution_count": null,
   "id": "4441ae59",
   "metadata": {},
   "outputs": [],
   "source": []
  }
 ],
 "metadata": {
  "kernelspec": {
   "display_name": "Python 3 (ipykernel)",
   "language": "python",
   "name": "python3"
  },
  "language_info": {
   "codemirror_mode": {
    "name": "ipython",
    "version": 3
   },
   "file_extension": ".py",
   "mimetype": "text/x-python",
   "name": "python",
   "nbconvert_exporter": "python",
   "pygments_lexer": "ipython3",
   "version": "3.11.5"
  }
 },
 "nbformat": 4,
 "nbformat_minor": 5
}
